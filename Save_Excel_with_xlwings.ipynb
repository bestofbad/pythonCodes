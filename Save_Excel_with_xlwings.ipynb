{
 "cells": [
  {
   "cell_type": "code",
   "execution_count": 1,
   "metadata": {},
   "outputs": [],
   "source": [
    "import xlwings as xw\n",
    "import pandas as pd"
   ]
  },
  {
   "cell_type": "code",
   "execution_count": 2,
   "metadata": {},
   "outputs": [],
   "source": [
    "book = xw.Book('../test.xlsx')\n",
    "\n",
    "n_sheet = len(book.sheets)              # book에 있는 Sheet 갯수\n",
    "dataframes = {}\n",
    "\n",
    "for k in range(n_sheet):\n",
    "    key = 'data' + str(k)\n",
    "    dataframes[key] = book.sheets[k].used_range.options(pd.DataFrame).value"
   ]
  },
  {
   "cell_type": "code",
   "execution_count": 3,
   "metadata": {},
   "outputs": [
    {
     "data": {
      "text/plain": [
       "{'data0':          WIDTH  LENGTH  특성값1  특성값2   특성값3\n",
       " Sample#                                  \n",
       " S1         3.0     6.0  62.0  0.23  123.5\n",
       " S2         4.0     7.0  65.0  0.56  548.3\n",
       " S3         2.0     7.0  54.0  0.48  216.3\n",
       " S4         7.0     4.0  35.0  0.65  542.3\n",
       " S5         4.0     7.0  84.0  0.22  684.3\n",
       " S6         2.0     7.0  21.0  0.36  659.2\n",
       " S7         6.0     9.0  55.0  0.87  545.6\n",
       " S8         3.0     8.0  45.0  0.94  412.6\n",
       " S9         2.0     7.0  12.0  0.55  452.3,\n",
       " 'data1':          WIDTH  LENGTH  특성값1  특성값2   특성값3\n",
       " Sample#                                  \n",
       " S1         3.0     6.0  62.0  0.23  123.5\n",
       " S2         4.0     7.0  65.0  0.56  548.3\n",
       " S3         2.0     7.0  54.0  0.48  216.3\n",
       " S4         7.0     4.0  35.0  0.65  542.3\n",
       " S5         4.0     7.0  84.0  0.22  684.3\n",
       " S6         2.0     7.0  21.0  0.36  659.2\n",
       " S7         6.0     9.0  55.0  0.87  545.6\n",
       " S8         3.0     8.0  45.0  0.94  412.6\n",
       " S9         2.0     7.0  12.0  0.55  452.3,\n",
       " 'data2':          WIDTH  LENGTH  특성값1  특성값2   특성값3\n",
       " Sample#                                  \n",
       " S1         3.0     6.0  62.0  0.23  123.5\n",
       " S2         4.0     7.0  65.0  0.56  548.3\n",
       " S3         2.0     7.0  54.0  0.48  216.3\n",
       " S4         7.0     4.0  35.0  0.65  542.3\n",
       " S5         4.0     7.0  84.0  0.22  684.3\n",
       " S6         2.0     7.0  21.0  0.36  659.2\n",
       " S7         6.0     9.0  55.0  0.87  545.6\n",
       " S8         3.0     8.0  45.0  0.94  412.6\n",
       " S9         2.0     7.0  12.0  0.55  452.3,\n",
       " 'data3': Empty DataFrame\n",
       " Columns: []\n",
       " Index: []}"
      ]
     },
     "execution_count": 3,
     "metadata": {},
     "output_type": "execute_result"
    }
   ],
   "source": [
    "dataframes"
   ]
  },
  {
   "cell_type": "code",
   "execution_count": 4,
   "metadata": {},
   "outputs": [],
   "source": [
    "# Dataframe들을 Excel에 저장하는 함수\n",
    "\n",
    "def writeExcelSheet (book, sheetname, datatable = None):\n",
    "    sheetlist = [sheet.name for sheet in book.sheets]             # 주어진 Book에 Sheet list 작성\n",
    "    if sheetname not in sheetlist:\n",
    "        book.sheets.add().name = sheetname                         # 지정한 sheetname 없으면 해당 sheet 신규 생성\n",
    "\n",
    "    # 선택된 Sheet에 Data가 있는지 확인 후, 없으면 'A1'에, 있으면 그 아래에 Data 추가\n",
    "    topdown = int(book.sheets[sheetname].range('A1:Z1').end('down').address.split('$')[-1])\n",
    "    bottomup = int(book.sheets[sheetname].range('A1048500:Z1048500').end('up').address.split('$')[-1])\n",
    "    if bottomup == 1:                  # Sheet 맨아래에서 위로 찾아올라가서 1번 행이면 빈 Sheet\n",
    "        sheetrange = bottomup\n",
    "    elif topdown <= bottomup:          # Sheet 위에서 아래로, 아래에서 위로 찾아가면서 Data 발견되는지 확인\n",
    "        sheetrange = bottomup + 2\n",
    "    else: pass\n",
    "    \n",
    "    book.sheets(sheetname)['A' + str(sheetrange)].value = datatable\n",
    "    book.save()\n"
   ]
  },
  {
   "cell_type": "code",
   "execution_count": 5,
   "metadata": {},
   "outputs": [],
   "source": [
    "fpath = 'd:/mybook.xlsx'\n",
    "book = xw.Book()\n",
    "book.save(fpath)\n",
    "for key in dataframes:\n",
    "    sheetname = 'new' + key\n",
    "    data = dataframes[key]\n",
    "    writeExcelSheet(book, sheetname, datatable = data)"
   ]
  }
 ],
 "metadata": {
  "kernelspec": {
   "display_name": "Python 3",
   "language": "python",
   "name": "python3"
  },
  "language_info": {
   "codemirror_mode": {
    "name": "ipython",
    "version": 3
   },
   "file_extension": ".py",
   "mimetype": "text/x-python",
   "name": "python",
   "nbconvert_exporter": "python",
   "pygments_lexer": "ipython3",
   "version": "3.8.3"
  }
 },
 "nbformat": 4,
 "nbformat_minor": 4
}
